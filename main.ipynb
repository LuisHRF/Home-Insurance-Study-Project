{
 "cells": [
  {
   "cell_type": "code",
   "execution_count": 40,
   "metadata": {},
   "outputs": [],
   "source": [
    "#Importaciones\n",
    "from functions import *\n",
    "import pandas as pd\n",
    "import geopandas as gpd\n",
    "import matplotlib.pyplot as plt"
   ]
  },
  {
   "cell_type": "code",
   "execution_count": 2,
   "metadata": {},
   "outputs": [],
   "source": [
    "#Cargando base de datos\n",
    "url_robberies = (\"https://github.com/LuisHRF/Home-Insurance-Study-Project-/raw/main/01002%20(1).xlsx\")\n",
    "data_raw_robberies = pd.read_excel(url_robberies)"
   ]
  },
  {
   "cell_type": "code",
   "execution_count": null,
   "metadata": {},
   "outputs": [],
   "source": [
    "data_clean = data_raw_robberies.dropna()\n",
    "data_clean "
   ]
  },
  {
   "cell_type": "code",
   "execution_count": null,
   "metadata": {},
   "outputs": [],
   "source": [
    "# Ver los valores únicos de la primera columna\n",
    "unique_first_column = data_clean.iloc[:, 0].unique()\n",
    "unique_first_column"
   ]
  },
  {
   "cell_type": "code",
   "execution_count": null,
   "metadata": {},
   "outputs": [],
   "source": [
    "block_sizes = [55, 55, 55, 55, 55, 55, 55, 55, 55, 55, 55, 55, 55, 55]\n",
    "start = 1\n",
    "year_ranges = {}\n",
    "\n",
    "for i, size in enumerate(block_sizes):\n",
    "    end = start + size - 1\n",
    "    year = 2023 - i\n",
    "    year_ranges[(start, end)] = year\n",
    "    start = end + 2  \n",
    "\n",
    "print(year_ranges)"
   ]
  },
  {
   "cell_type": "code",
   "execution_count": 6,
   "metadata": {},
   "outputs": [],
   "source": [
    "def defi_years_per_block(data_frame, year_range):\n",
    "\n",
    "    data_frame_cp = data_frame.copy()\n",
    "\n",
    "    for (first_row, last_row), year in year_range.items():\n",
    "        data_frame_cp.loc[first_row:last_row, 'Year'] = year\n",
    "\n",
    "    return data_frame_cp"
   ]
  },
  {
   "cell_type": "code",
   "execution_count": 7,
   "metadata": {},
   "outputs": [],
   "source": [
    "data_clean_years = defi_years_per_block(data_clean, year_ranges)"
   ]
  },
  {
   "cell_type": "code",
   "execution_count": null,
   "metadata": {},
   "outputs": [],
   "source": [
    "data_clean_years.tail(10)"
   ]
  },
  {
   "cell_type": "code",
   "execution_count": null,
   "metadata": {},
   "outputs": [],
   "source": [
    "# Limpieza de Encabezados\n",
    "data_clean_years.columns = data_clean_years.columns.str.lower().str.replace(\" \", \"_\")\n",
    "data_clean_years = data_clean_years.rename(columns={\n",
    "    \"_\": \"Province\"\n",
    "})\n",
    "data_clean_years"
   ]
  },
  {
   "cell_type": "code",
   "execution_count": 10,
   "metadata": {},
   "outputs": [],
   "source": [
    "columns_titles = [\"1._contra_las_personas\",\"1.2.-lesiones\",\"5.1.-hurtos\",\"5.2.-robos_con_fuerza_en_las_cosas\",\"5.2.1.-robos_con_fuerza_en_las_cosas_en_el_interior_de_vehículos\",\"5.2.2.-robos_con_fuerza_en_viviendas\",\"5.2.3.-robos_con_fuerza_en_establecimientos\",\"5.3.-robos_con_violencia_o_intimidación\",\"5.3.1.-robos_con_violencia_en_vía_pública\",\"5.3.2.-robos_con_violencia_en_viviendas\",\"5.3.3.-robos_con_violencia_en_establecimientos\"]\n",
    "translations = {\"1._contra_las_personas\": \"Assault\",\n",
    "                \"1.2.-lesiones\" :\"Injuries\",\n",
    "                \"5.1.-hurtos\":\"small robberies\",\n",
    "                \"5.2.-robos_con_fuerza_en_las_cosas\":\"robs_with_force\",\n",
    "                \"5.2.1.-robos_con_fuerza_en_las_cosas_en_el_interior_de_vehículos\":\"robs_force_vehicles\",\n",
    "                \"5.2.2.-robos_con_fuerza_en_viviendas\":\"robs_force_homes\",\n",
    "                \"5.2.3.-robos_con_fuerza_en_establecimientos\":\"robs_force_stores\",\n",
    "                \"5.3.-robos_con_violencia_o_intimidación\":\"robs_violence_intimidation\",\n",
    "                \"5.3.1.-robos_con_violencia_en_vía_pública\":\"robs_violence_publicways\",\n",
    "                \"5.3.2.-robos_con_violencia_en_viviendas\":\"robs_violence_homes\",\n",
    "                \"5.3.3.-robos_con_violencia_en_establecimientos\":\"robs_violence_stores\"\n",
    "}"
   ]
  },
  {
   "cell_type": "code",
   "execution_count": null,
   "metadata": {},
   "outputs": [],
   "source": [
    "def traducir_columnas(columns_titles, translations):\n",
    "    return [translations.get(col, col) for col in columns_titles]\n",
    "print(traducir_columnas(columns_titles, translations))"
   ]
  },
  {
   "cell_type": "code",
   "execution_count": 12,
   "metadata": {},
   "outputs": [],
   "source": [
    "# Suponiendo que tu DataFrame se llama data_clean_years\n",
    "data_clean_years.columns = traducir_columnas(data_clean_years.columns, translations)"
   ]
  },
  {
   "cell_type": "code",
   "execution_count": null,
   "metadata": {},
   "outputs": [],
   "source": [
    "print(data_clean_years)"
   ]
  },
  {
   "cell_type": "code",
   "execution_count": null,
   "metadata": {},
   "outputs": [],
   "source": [
    "# Eliminar la columna sin nombre (usualmente aparece como \"Unnamed: 0\")\n",
    "data_clean_years = data_clean_years.drop(columns=[col for col in data_clean_years.columns if \"Unnamed\" in col])\n",
    "data_clean_years"
   ]
  },
  {
   "cell_type": "code",
   "execution_count": null,
   "metadata": {},
   "outputs": [],
   "source": [
    "# Restablecer el índice en 10 resultados\n",
    "data_clean_years.reset_index(drop=True, inplace=True)\n",
    "print(data_clean_years.to_string(index=False))"
   ]
  },
  {
   "cell_type": "code",
   "execution_count": null,
   "metadata": {},
   "outputs": [],
   "source": [
    "data_clean_years.head(100)"
   ]
  },
  {
   "cell_type": "code",
   "execution_count": 17,
   "metadata": {},
   "outputs": [
    {
     "data": {
      "text/plain": [
       "'\\ndef verify_and_switch_datatypes(data_clean_years, column_name, assigned_types):\\n    column_name = data_clean_years[column_name]\\n    currently_type = data_clean_years[column_name].dtype\\n    assigned_types = {\\'Province\\': str,\\n                      \\'Assault\\': int,\\n                      \\'physical injuries\\':int,\\n                      \\'small_robberies\\':int,\\n                      \\'robberies_with_force\\':int,\\n                      \\'robberies_force_vehicles\\': int, \\n                      \\'hard_robbvehicles\\':int, \\n                      \\'robs_force_homes\\':int, \\n                      \\'robs_force_establishments\\':int, \\n                      \\'robs_violence_intimidation\\':int,\\n                      \\'robs_violence_publicways\\':int,\\n                      \\'robs_violence_homes\\':int, \\n                      \\'robs_violence_establishments\\':int,\\n                      \\'year\\':int\\n                      }\\n    for column_name, assigned_types in assigned_types.items():\\n        if currently_type != assigned_types:\\n            try:\\n                data_clean_years[column_name] = data_clean_years[column_name].astype(assigned_types)\\n                print(f\"Column \\'{column_name}\\' converted from {currently_type} a {assigned_types}.\")\\n            except Exception as e:\\n                print(f\"It was no possible to switch the \\'{column_name}\\' type into {assigned_types}: {e}\")\\n        else:\\n            print(f\"Column \\'{column_name}\\' is currently right typed as ({currently_type}).\")\\n    \\n    return data_clean_years\\n'"
      ]
     },
     "execution_count": 17,
     "metadata": {},
     "output_type": "execute_result"
    }
   ],
   "source": [
    "'''\n",
    "def verify_and_switch_datatypes(data_clean_years, column_name, assigned_types):\n",
    "    column_name = data_clean_years[column_name]\n",
    "    currently_type = data_clean_years[column_name].dtype\n",
    "    assigned_types = {'Province': str,\n",
    "                      'Assault': int,\n",
    "                      'physical injuries':int,\n",
    "                      'small_robberies':int,\n",
    "                      'robberies_with_force':int,\n",
    "                      'robberies_force_vehicles': int, \n",
    "                      'hard_robbvehicles':int, \n",
    "                      'robs_force_homes':int, \n",
    "                      'robs_force_establishments':int, \n",
    "                      'robs_violence_intimidation':int,\n",
    "                      'robs_violence_publicways':int,\n",
    "                      'robs_violence_homes':int, \n",
    "                      'robs_violence_establishments':int,\n",
    "                      'year':int\n",
    "                      }\n",
    "    for column_name, assigned_types in assigned_types.items():\n",
    "        if currently_type != assigned_types:\n",
    "            try:\n",
    "                data_clean_years[column_name] = data_clean_years[column_name].astype(assigned_types)\n",
    "                print(f\"Column '{column_name}' converted from {currently_type} a {assigned_types}.\")\n",
    "            except Exception as e:\n",
    "                print(f\"It was no possible to switch the '{column_name}' type into {assigned_types}: {e}\")\n",
    "        else:\n",
    "            print(f\"Column '{column_name}' is currently right typed as ({currently_type}).\")\n",
    "    \n",
    "    return data_clean_years\n",
    "'''"
   ]
  },
  {
   "cell_type": "code",
   "execution_count": null,
   "metadata": {},
   "outputs": [],
   "source": [
    "def verify_and_switch_datatypes(data_clean_years, assigned_types):\n",
    "    # Itera sobre cada columna y su tipo asignado en el diccionario\n",
    "    for column_name, expected_type in assigned_types.items():\n",
    "        # Obtiene el tipo actual de la columna\n",
    "        currently_type = data_clean_years[column_name].dtype\n",
    "        \n",
    "        if currently_type != expected_type:\n",
    "            try:\n",
    "                # Convierte la columna al tipo esperado\n",
    "                data_clean_years[column_name] = data_clean_years[column_name].astype(expected_type)\n",
    "                print(f\"Column '{column_name}' converted from {currently_type} to {expected_type}.\")\n",
    "            except Exception as e:\n",
    "                print(f\"It was not possible to switch the '{column_name}' type to {expected_type}: {e}\")\n",
    "        else:\n",
    "            print(f\"Column '{column_name}' is currently correctly typed as ({currently_type}).\")\n",
    "    \n",
    "    return data_clean_years\n",
    "\n",
    "# Ejemplo de cómo aplicar la función\n",
    "assigned_types = {\n",
    "    'Province': str,\n",
    "    'Assault': int,\n",
    "    'Injuries': int,\n",
    "    'small robberies': int,\n",
    "    'robs_with_force': int,\n",
    "    'robs_force_vehicles': int,  \n",
    "    'robs_force_homes': int,\n",
    "    'robs_force_stores': int,\n",
    "    'robs_violence_intimidation': int,\n",
    "    'robs_violence_publicways': int,\n",
    "    'robs_violence_homes': int, \n",
    "    'robs_violence_stores': int,\n",
    "    'year': int\n",
    "}\n",
    "\n",
    "# Supongamos que `data_clean_years` es tu DataFrame\n",
    "data_clean_years = verify_and_switch_datatypes(data_clean_years, assigned_types)"
   ]
  },
  {
   "cell_type": "code",
   "execution_count": 19,
   "metadata": {},
   "outputs": [],
   "source": [
    "def convert_year_into_datetime(data_clean_years):\n",
    "    data_clean_years['year'] = pd.to_datetime(data_clean_years['year'].astype(str) + '-01-01')"
   ]
  },
  {
   "cell_type": "code",
   "execution_count": null,
   "metadata": {},
   "outputs": [],
   "source": [
    "data_clean_years"
   ]
  },
  {
   "cell_type": "code",
   "execution_count": null,
   "metadata": {},
   "outputs": [],
   "source": [
    "# SUMAR TODOS LOS DELITOS DE TODOS LOS AÑOS PARA CADA PROVINCIA\n",
    "\n",
    "delitos_columns = [\n",
    "    'Assault', 'Injuries', 'small robberies', 'robs_with_force',\n",
    "    'robs_force_vehicles', 'robs_force_homes', 'robs_force_stores',\n",
    "    'robs_violence_intimidation', 'robs_violence_publicways',\n",
    "    'robs_violence_homes', 'robs_violence_stores'\n",
    "]\n",
    "\n",
    "# Agrupar y sumar\n",
    "df_suma_delitos = data_clean_years.groupby('Province')[delitos_columns].sum().reset_index()\n",
    "\n",
    "print(df_suma_delitos)"
   ]
  },
  {
   "cell_type": "code",
   "execution_count": 23,
   "metadata": {},
   "outputs": [],
   "source": [
    "# df_suma_delitos.to_excel('suma_delitos_por_provincia.xlsx', index=False)"
   ]
  },
  {
   "cell_type": "code",
   "execution_count": null,
   "metadata": {},
   "outputs": [],
   "source": [
    "df_suma_delitos['Total'] = df_suma_delitos.iloc[:, 1:].sum(axis=1)\n",
    "\n",
    "# Ver el resultado\n",
    "print(df_suma_delitos[['Province', 'Total']])"
   ]
  },
  {
   "cell_type": "markdown",
   "metadata": {},
   "source": [
    "### VAMOS CON LAS TENDENCIAS"
   ]
  },
  {
   "cell_type": "code",
   "execution_count": null,
   "metadata": {},
   "outputs": [],
   "source": [
    "# Tenemos que agrupar todos los delitos por año y provincia\n",
    "\n",
    "columns_to_sum = ['Assault', 'Injuries', 'small robberies', 'robs_with_force',\n",
    "                  'robs_force_vehicles', 'robs_force_homes', 'robs_force_stores',\n",
    "                  'robs_violence_intimidation', 'robs_violence_publicways',\n",
    "                  'robs_violence_homes', 'robs_violence_stores']\n",
    "\n",
    "# Creamos una nueva columna que sume todos los delitos para cada provincia y año\n",
    "data_clean_years['total_crimes'] = data_clean_years[columns_to_sum].sum(axis=1)\n",
    "\n",
    "# Visualizamos el DataFrame con la nueva columna\n",
    "print(data_clean_years[['Province', 'year', 'total_crimes']])"
   ]
  },
  {
   "cell_type": "code",
   "execution_count": null,
   "metadata": {},
   "outputs": [],
   "source": [
    "import matplotlib.pyplot as plt\n",
    "import seaborn as sns\n",
    "\n",
    "# Aseguramos que el DataFrame esté ordenado por provincia y año\n",
    "df_sorted = data_clean_years[['Province', 'year', 'total_crimes']].sort_values(by=['Province', 'year'])\n",
    "\n",
    "# Configuración del tamaño de la gráfica\n",
    "plt.figure(figsize=(12, 8))\n",
    "\n",
    "# Graficamos las tendencias de cada provincia\n",
    "sns.lineplot(data=df_sorted, x='year', y='total_crimes', hue='Province', marker='o', legend=False)\n",
    "\n",
    "# Ajustamos el título y las etiquetas\n",
    "plt.title('Tendencia de delitos totales por provincia a lo largo de los años', fontsize=16)\n",
    "plt.xlabel('Año', fontsize=12)\n",
    "plt.ylabel('Delitos Totales', fontsize=12)\n",
    "\n",
    "# Mejoramos la visualización de los ticks en el eje X\n",
    "plt.xticks(rotation=45)\n",
    "\n",
    "# Mostramos la gráfica\n",
    "plt.tight_layout()\n",
    "plt.show()"
   ]
  },
  {
   "cell_type": "code",
   "execution_count": 27,
   "metadata": {},
   "outputs": [],
   "source": [
    "# Filtrar las provincias con menos incremento tendencial"
   ]
  },
  {
   "cell_type": "code",
   "execution_count": 28,
   "metadata": {},
   "outputs": [],
   "source": [
    "import numpy as np\n",
    "from sklearn.linear_model import LinearRegression\n",
    "\n",
    "# Inicializamos un diccionario para almacenar la tasa de crecimiento de cada provincia\n",
    "crecimiento = {}\n",
    "\n",
    "# Iteramos sobre cada provincia\n",
    "for provincia in data_clean_years['Province'].unique():\n",
    "    df_provincia = data_clean_years[data_clean_years['Province'] == provincia]\n",
    "    \n",
    "    # Preparamos los datos para la regresión\n",
    "    X = df_provincia['year'].values.reshape(-1, 1)\n",
    "    y = df_provincia['total_crimes'].values\n",
    "    \n",
    "    # Realizamos la regresión lineal\n",
    "    modelo = LinearRegression()\n",
    "    modelo.fit(X, y)\n",
    "    \n",
    "    # Almacenamos la pendiente (tasa de crecimiento) en el diccionario\n",
    "    crecimiento[provincia] = modelo.coef_[0]\n",
    "\n",
    "# Convertimos el diccionario en un DataFrame para facilitar la manipulación\n",
    "df_crecimiento = pd.DataFrame(list(crecimiento.items()), columns=['Province', 'Growth Rate'])\n",
    "\n",
    "# Ordenamos las provincias por tasa de crecimiento y seleccionamos las más altas\n",
    "top_provincias = df_crecimiento.sort_values(by='Growth Rate', ascending=False).head(10)['Province'].tolist()"
   ]
  },
  {
   "cell_type": "code",
   "execution_count": 29,
   "metadata": {},
   "outputs": [],
   "source": [
    "# Filtramos el DataFrame para incluir solo las provincias con mayor crecimiento\n",
    "df_filtrado_crecimiento = data_clean_years[data_clean_years['Province'].isin(top_provincias)]\n",
    "\n",
    "# Ordenamos el DataFrame filtrado por provincia y año\n",
    "df_filtrado_crecimiento_sorted = df_filtrado_crecimiento[['Province', 'year', 'total_crimes']].sort_values(by=['Province', 'year'])"
   ]
  },
  {
   "cell_type": "code",
   "execution_count": null,
   "metadata": {},
   "outputs": [],
   "source": [
    "# Configuración del tamaño de la gráfica\n",
    "plt.figure(figsize=(12, 8))\n",
    "\n",
    "# Graficar las tendencias de las provincias con mayor crecimiento\n",
    "sns.lineplot(data=df_filtrado_crecimiento_sorted, x='year', y='total_crimes', hue='Province', marker='o', palette='tab10')\n",
    "\n",
    "# Ajustar el título y las etiquetas\n",
    "plt.title('Tendencia de delitos totales en provincias con mayor crecimiento tendencial', fontsize=16)\n",
    "plt.xlabel('Año', fontsize=12)\n",
    "plt.ylabel('Delitos Totales', fontsize=12)\n",
    "\n",
    "# Mejorar la visualización de los ticks en el eje X\n",
    "plt.xticks(rotation=45)\n",
    "\n",
    "# Mostrar la gráfica\n",
    "plt.tight_layout()\n",
    "plt.show()"
   ]
  },
  {
   "cell_type": "code",
   "execution_count": 31,
   "metadata": {},
   "outputs": [],
   "source": [
    "# Incremento porcentual entre el primer y el último año"
   ]
  },
  {
   "cell_type": "code",
   "execution_count": null,
   "metadata": {},
   "outputs": [],
   "source": [
    "# Agrupar los datos por provincia y obtener el total de delitos del primer y último año\n",
    "df_grouped = data_clean_years.groupby(['Province', 'year'])['total_crimes'].sum().reset_index()\n",
    "\n",
    "# Encontrar el primer y el último año para cada provincia\n",
    "df_first_last = df_grouped.groupby('Province').agg(\n",
    "    first_year_total=('total_crimes', 'first'),\n",
    "    last_year_total=('total_crimes', 'last')\n",
    ").reset_index()\n",
    "\n",
    "# Calcular el incremento porcentual\n",
    "df_first_last['percentage_increase'] = ((df_first_last['first_year_total'] - df_first_last['last_year_total']) /\n",
    "                                        df_first_last['last_year_total']) * 100\n",
    "\n",
    "# Ordenar las provincias por incremento porcentual\n",
    "df_sorted_increase = df_first_last.sort_values(by='percentage_increase', ascending=False)\n",
    "\n",
    "# Mostrar el resultado\n",
    "print(df_sorted_increase[['Province', 'first_year_total', 'last_year_total', 'percentage_increase']])"
   ]
  },
  {
   "cell_type": "code",
   "execution_count": null,
   "metadata": {},
   "outputs": [],
   "source": [
    "# Configuración del tamaño de la gráfica\n",
    "plt.figure(figsize=(12, 8))\n",
    "\n",
    "# Graficar el incremento porcentual de delitos por provincia\n",
    "sns.barplot(data=df_first_last, x='percentage_increase', y='Province', palette='viridis')\n",
    "\n",
    "# Ajustar el título y las etiquetas\n",
    "plt.title('Incremento Porcentual de Delitos por Provincia', fontsize=16)\n",
    "plt.xlabel('Incremento Porcentual (%)', fontsize=12)\n",
    "plt.ylabel('Provincia', fontsize=12)\n",
    "\n",
    "# Mejorar la visualización de los ticks en el eje X\n",
    "plt.tight_layout()\n",
    "\n",
    "# Mostrar la gráfica\n",
    "plt.show()"
   ]
  },
  {
   "cell_type": "code",
   "execution_count": null,
   "metadata": {},
   "outputs": [],
   "source": [
    "# Agrupar por provincia y año y calcular la media de cada delito\n",
    "df_mean = data_clean_years.groupby(['Province', 'year'])[['Assault', 'Injuries', 'small robberies', \n",
    "                                            'robs_with_force', 'robs_force_vehicles', \n",
    "                                            'robs_force_homes', 'robs_force_stores', \n",
    "                                            'robs_violence_intimidation', 'robs_violence_publicways', \n",
    "                                            'robs_violence_homes', 'robs_violence_stores']].mean().reset_index()\n",
    "\n",
    "# Mostrar el resultado\n",
    "print(df_mean.head())"
   ]
  },
  {
   "cell_type": "code",
   "execution_count": null,
   "metadata": {},
   "outputs": [],
   "source": [
    "# Configuración del tamaño de la gráfica\n",
    "plt.figure(figsize=(14, 10))\n",
    "\n",
    "# Graficar las medias de delitos por provincia\n",
    "df_melted = df_mean.melt(id_vars='Province', var_name='Type', value_name='Average')\n",
    "\n",
    "# Graficar\n",
    "sns.barplot(data=df_melted, x='Average', y='Province', hue='Type', palette='tab10')\n",
    "\n",
    "# Ajustar el título y las etiquetas\n",
    "plt.title('Media de Delitos por Provincia', fontsize=16)\n",
    "plt.xlabel('Media de Delitos', fontsize=12)\n",
    "plt.ylabel('Provincia', fontsize=12)\n",
    "\n",
    "# Mostrar la gráfica\n",
    "plt.tight_layout()\n",
    "plt.show()"
   ]
  },
  {
   "cell_type": "code",
   "execution_count": null,
   "metadata": {},
   "outputs": [],
   "source": []
  },
  {
   "cell_type": "code",
   "execution_count": null,
   "metadata": {},
   "outputs": [],
   "source": [
    "# USELESS TRASH\n",
    "'''\n",
    "print(data_clean_years.columns)\n",
    "data_clean_years.columns = data_clean_years.columns.str.strip()\n",
    "if 'Assault' not in data_clean_years.columns:\n",
    "    print(\"La columna 'Assault' no se encuentra en el DataFrame.\")\n",
    "else:\n",
    "    print(\"La columna 'Assault' está presente.\")\n",
    "'''\n",
    "#data_formated_year = convert_year_into_datetime(data_clean_years)\n",
    "#df.columns = df.columns.str.lower().str.replace(\" \",\"_\").str.replace(\".\",\"_\").str.replace(\":\",\"\").str.strip()\n",
    "#df.rename(columns={\"species_\" : \"species\", \"unnamed_11\" : \"death\"}, inplace= True)\n",
    "\n",
    "'''\n",
    "MAPA COLOREADO POR PROVINCIAS\n",
    "# Cargar el shapefile de las provincias\n",
    "gdf_provincias = gpd.read_file('path_to_shapefile.shp')  # Reemplaza con el camino a tu shapefile\n",
    "\n",
    "# Cargar el DataFrame con los datos de delitos\n",
    "df_delitos = pd.read_excel('suma_delitos_por_provincia.xlsx')  # Reemplaza con el camino a tu archivo Excel\n",
    "\n",
    "# Asegúrate de que los nombres de las provincias en ambos DataFrames coincidan\n",
    "# Puedes necesitar ajustar los nombres o hacer una correspondencia entre ellos\n",
    "\n",
    "# Unir los datos de delitos con el GeoDataFrame\n",
    "gdf_provincias = gdf_provincias.merge(df_delitos, left_on='province_column_in_shapefile', right_on='Province')  # Ajusta los nombres de las columnas\n",
    "\n",
    "# Crear el mapa\n",
    "fig, ax = plt.subplots(1, 1, figsize=(10, 10))\n",
    "gdf_provincias.plot(column='Assault',  # Reemplaza con la columna que desees visualizar\n",
    "                    cmap='OrRd',  # Elige un esquema de colores\n",
    "                    linewidth=0.8,\n",
    "                    ax=ax,\n",
    "                    edgecolor='0.8',\n",
    "                    legend=True)\n",
    "\n",
    "ax.set_title('Número de Delitos por Provincia en España')\n",
    "ax.set_axis_off()\n",
    "\n",
    "plt.show()\n",
    "'''"
   ]
  }
 ],
 "metadata": {
  "kernelspec": {
   "display_name": "python_home_insurance",
   "language": "python",
   "name": "python3"
  },
  "language_info": {
   "codemirror_mode": {
    "name": "ipython",
    "version": 3
   },
   "file_extension": ".py",
   "mimetype": "text/x-python",
   "name": "python",
   "nbconvert_exporter": "python",
   "pygments_lexer": "ipython3",
   "version": "3.11.7"
  }
 },
 "nbformat": 4,
 "nbformat_minor": 2
}
