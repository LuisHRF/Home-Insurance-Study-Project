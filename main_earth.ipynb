{
 "cells": [
  {
   "cell_type": "code",
   "execution_count": 1,
   "metadata": {},
   "outputs": [],
   "source": [
    "import pandas as pd\n",
    "#data = pd.read_csv('C:/Users/Carlos/Downloads/earthquake_spain_19002024.csv', header=0)"
   ]
  },
  {
   "cell_type": "code",
   "execution_count": 2,
   "metadata": {},
   "outputs": [],
   "source": [
    "data_df = pd.read_csv('C:/Users/Carlos/Downloads/earthquake_spain_19002024.csv', delimiter=';', skipinitialspace=True)"
   ]
  },
  {
   "cell_type": "code",
   "execution_count": 11,
   "metadata": {},
   "outputs": [
    {
     "data": {
      "text/html": [
       "<div>\n",
       "<style scoped>\n",
       "    .dataframe tbody tr th:only-of-type {\n",
       "        vertical-align: middle;\n",
       "    }\n",
       "\n",
       "    .dataframe tbody tr th {\n",
       "        vertical-align: top;\n",
       "    }\n",
       "\n",
       "    .dataframe thead th {\n",
       "        text-align: right;\n",
       "    }\n",
       "</style>\n",
       "<table border=\"1\" class=\"dataframe\">\n",
       "  <thead>\n",
       "    <tr style=\"text-align: right;\">\n",
       "      <th></th>\n",
       "      <th>Evento</th>\n",
       "      <th>Fecha</th>\n",
       "      <th>Hora</th>\n",
       "      <th>Latitud</th>\n",
       "      <th>Longitud</th>\n",
       "      <th>Prof. (Km)</th>\n",
       "      <th>Inten.</th>\n",
       "      <th>Mag.</th>\n",
       "      <th>Tipo Mag.</th>\n",
       "      <th>Localización</th>\n",
       "    </tr>\n",
       "  </thead>\n",
       "  <tbody>\n",
       "    <tr>\n",
       "      <th>0</th>\n",
       "      <td>2494</td>\n",
       "      <td>16/02/1900</td>\n",
       "      <td>05:00:00</td>\n",
       "      <td>43.0</td>\n",
       "      <td>0.1500</td>\n",
       "      <td>0.0</td>\n",
       "      <td>III</td>\n",
       "      <td>NaN</td>\n",
       "      <td>NaN</td>\n",
       "      <td>Bagneres-de-Bigorre.FRA</td>\n",
       "    </tr>\n",
       "    <tr>\n",
       "      <th>1</th>\n",
       "      <td>2495</td>\n",
       "      <td>04/03/1900</td>\n",
       "      <td>09:00:00</td>\n",
       "      <td>40.0</td>\n",
       "      <td>3.8333</td>\n",
       "      <td>0.0</td>\n",
       "      <td>IV</td>\n",
       "      <td>NaN</td>\n",
       "      <td>NaN</td>\n",
       "      <td>Ciutadella.IB</td>\n",
       "    </tr>\n",
       "    <tr>\n",
       "      <th>2</th>\n",
       "      <td>2496</td>\n",
       "      <td>09/03/1900</td>\n",
       "      <td>04:20:00</td>\n",
       "      <td>37.6</td>\n",
       "      <td>-1.3167</td>\n",
       "      <td>0.0</td>\n",
       "      <td>IV</td>\n",
       "      <td>NaN</td>\n",
       "      <td>NaN</td>\n",
       "      <td>Mazarrón.MU</td>\n",
       "    </tr>\n",
       "    <tr>\n",
       "      <th>3</th>\n",
       "      <td>2497</td>\n",
       "      <td>25/04/1900</td>\n",
       "      <td>18:00:00</td>\n",
       "      <td>35.7</td>\n",
       "      <td>-0.6000</td>\n",
       "      <td>0.0</td>\n",
       "      <td>VI</td>\n",
       "      <td>NaN</td>\n",
       "      <td>NaN</td>\n",
       "      <td>ORAN.ARG</td>\n",
       "    </tr>\n",
       "    <tr>\n",
       "      <th>4</th>\n",
       "      <td>2498</td>\n",
       "      <td>09/06/1900</td>\n",
       "      <td>23:50:00</td>\n",
       "      <td>42.6</td>\n",
       "      <td>-5.5667</td>\n",
       "      <td>0.0</td>\n",
       "      <td>III</td>\n",
       "      <td>NaN</td>\n",
       "      <td>NaN</td>\n",
       "      <td>León</td>\n",
       "    </tr>\n",
       "  </tbody>\n",
       "</table>\n",
       "</div>"
      ],
      "text/plain": [
       "  Evento       Fecha      Hora  Latitud  Longitud  Prof. (Km) Inten.  Mag.  \\\n",
       "0   2494  16/02/1900  05:00:00     43.0    0.1500         0.0    III   NaN   \n",
       "1   2495  04/03/1900  09:00:00     40.0    3.8333         0.0     IV   NaN   \n",
       "2   2496  09/03/1900  04:20:00     37.6   -1.3167         0.0     IV   NaN   \n",
       "3   2497  25/04/1900  18:00:00     35.7   -0.6000         0.0     VI   NaN   \n",
       "4   2498  09/06/1900  23:50:00     42.6   -5.5667         0.0    III   NaN   \n",
       "\n",
       "   Tipo Mag.             Localización  \n",
       "0        NaN  Bagneres-de-Bigorre.FRA  \n",
       "1        NaN            Ciutadella.IB  \n",
       "2        NaN              Mazarrón.MU  \n",
       "3        NaN                 ORAN.ARG  \n",
       "4        NaN                     León  "
      ]
     },
     "execution_count": 11,
     "metadata": {},
     "output_type": "execute_result"
    }
   ],
   "source": [
    "data_df.head()"
   ]
  },
  {
   "cell_type": "code",
   "execution_count": 3,
   "metadata": {},
   "outputs": [],
   "source": [
    "data_df = data_df.drop(['Evento'], axis=1)"
   ]
  },
  {
   "cell_type": "code",
   "execution_count": 4,
   "metadata": {},
   "outputs": [],
   "source": [
    "data_df = data_df.drop(['Hora'], axis=1)"
   ]
  },
  {
   "cell_type": "code",
   "execution_count": 5,
   "metadata": {},
   "outputs": [],
   "source": [
    "data_df = data_df.drop(['Fecha'], axis=1)"
   ]
  },
  {
   "cell_type": "code",
   "execution_count": 6,
   "metadata": {},
   "outputs": [],
   "source": [
    "data_df = data_df.drop(['Mag.'], axis=1)"
   ]
  },
  {
   "cell_type": "code",
   "execution_count": 7,
   "metadata": {},
   "outputs": [],
   "source": [
    "data_df = data_df.drop(['Tipo Mag.'], axis=1)"
   ]
  },
  {
   "cell_type": "code",
   "execution_count": 8,
   "metadata": {},
   "outputs": [],
   "source": [
    "data_df = data_df.drop(['Prof. (Km)'], axis=1)"
   ]
  },
  {
   "cell_type": "code",
   "execution_count": 9,
   "metadata": {},
   "outputs": [],
   "source": [
    "data_df_sinloc = data_df.drop(['Localización'], axis=1)"
   ]
  },
  {
   "cell_type": "code",
   "execution_count": 10,
   "metadata": {},
   "outputs": [
    {
     "data": {
      "text/html": [
       "<div>\n",
       "<style scoped>\n",
       "    .dataframe tbody tr th:only-of-type {\n",
       "        vertical-align: middle;\n",
       "    }\n",
       "\n",
       "    .dataframe tbody tr th {\n",
       "        vertical-align: top;\n",
       "    }\n",
       "\n",
       "    .dataframe thead th {\n",
       "        text-align: right;\n",
       "    }\n",
       "</style>\n",
       "<table border=\"1\" class=\"dataframe\">\n",
       "  <thead>\n",
       "    <tr style=\"text-align: right;\">\n",
       "      <th></th>\n",
       "      <th>Latitud</th>\n",
       "      <th>Longitud</th>\n",
       "      <th>Inten.</th>\n",
       "    </tr>\n",
       "  </thead>\n",
       "  <tbody>\n",
       "    <tr>\n",
       "      <th>0</th>\n",
       "      <td>43.0</td>\n",
       "      <td>0.1500</td>\n",
       "      <td>III</td>\n",
       "    </tr>\n",
       "    <tr>\n",
       "      <th>1</th>\n",
       "      <td>40.0</td>\n",
       "      <td>3.8333</td>\n",
       "      <td>IV</td>\n",
       "    </tr>\n",
       "    <tr>\n",
       "      <th>2</th>\n",
       "      <td>37.6</td>\n",
       "      <td>-1.3167</td>\n",
       "      <td>IV</td>\n",
       "    </tr>\n",
       "    <tr>\n",
       "      <th>3</th>\n",
       "      <td>35.7</td>\n",
       "      <td>-0.6000</td>\n",
       "      <td>VI</td>\n",
       "    </tr>\n",
       "    <tr>\n",
       "      <th>4</th>\n",
       "      <td>42.6</td>\n",
       "      <td>-5.5667</td>\n",
       "      <td>III</td>\n",
       "    </tr>\n",
       "  </tbody>\n",
       "</table>\n",
       "</div>"
      ],
      "text/plain": [
       "   Latitud  Longitud Inten.\n",
       "0     43.0    0.1500    III\n",
       "1     40.0    3.8333     IV\n",
       "2     37.6   -1.3167     IV\n",
       "3     35.7   -0.6000     VI\n",
       "4     42.6   -5.5667    III"
      ]
     },
     "execution_count": 10,
     "metadata": {},
     "output_type": "execute_result"
    }
   ],
   "source": [
    "data_df_sinloc.head()"
   ]
  },
  {
   "cell_type": "code",
   "execution_count": 14,
   "metadata": {},
   "outputs": [],
   "source": [
    "import plotly.express as px\n",
    "import plotly.io as pio"
   ]
  },
  {
   "cell_type": "code",
   "execution_count": 15,
   "metadata": {},
   "outputs": [],
   "source": [
    "pio.renderers.default = \"browser\""
   ]
  },
  {
   "cell_type": "code",
   "execution_count": 16,
   "metadata": {},
   "outputs": [],
   "source": [
    "fig = px.density_mapbox(data_df_sinloc, lat='Latitud', lon='Longitud', radius=10,\n",
    "                        center=dict(lat=40, lon=-3), zoom=5,\n",
    "                        mapbox_style='stamen-terrain')"
   ]
  },
  {
   "cell_type": "code",
   "execution_count": 21,
   "metadata": {},
   "outputs": [],
   "source": [
    "fig2 = px.density_mapbox(data_df_sinloc, lat='Latitud', lon='Longitud', radius=10,\n",
    "                        center=dict(lat=40, lon=-3), zoom=5,\n",
    "                        mapbox_style='carto-positron')"
   ]
  },
  {
   "cell_type": "code",
   "execution_count": 19,
   "metadata": {},
   "outputs": [],
   "source": [
    "#pio.show(fig)"
   ]
  },
  {
   "cell_type": "code",
   "execution_count": 20,
   "metadata": {},
   "outputs": [],
   "source": [
    "fig.write_html(\"mapa.html\")"
   ]
  },
  {
   "cell_type": "code",
   "execution_count": 24,
   "metadata": {},
   "outputs": [],
   "source": [
    "fig2.write_html(\"mapa2.html\")"
   ]
  },
  {
   "cell_type": "code",
   "execution_count": 25,
   "metadata": {},
   "outputs": [
    {
     "data": {
      "text/html": [
       "<div>\n",
       "<style scoped>\n",
       "    .dataframe tbody tr th:only-of-type {\n",
       "        vertical-align: middle;\n",
       "    }\n",
       "\n",
       "    .dataframe tbody tr th {\n",
       "        vertical-align: top;\n",
       "    }\n",
       "\n",
       "    .dataframe thead th {\n",
       "        text-align: right;\n",
       "    }\n",
       "</style>\n",
       "<table border=\"1\" class=\"dataframe\">\n",
       "  <thead>\n",
       "    <tr style=\"text-align: right;\">\n",
       "      <th></th>\n",
       "      <th>Latitud</th>\n",
       "      <th>Longitud</th>\n",
       "      <th>Inten.</th>\n",
       "      <th>Localización</th>\n",
       "    </tr>\n",
       "  </thead>\n",
       "  <tbody>\n",
       "    <tr>\n",
       "      <th>0</th>\n",
       "      <td>43.0000</td>\n",
       "      <td>0.1500</td>\n",
       "      <td>III</td>\n",
       "      <td>Bagneres-de-Bigorre.FRA</td>\n",
       "    </tr>\n",
       "    <tr>\n",
       "      <th>1</th>\n",
       "      <td>40.0000</td>\n",
       "      <td>3.8333</td>\n",
       "      <td>IV</td>\n",
       "      <td>Ciutadella.IB</td>\n",
       "    </tr>\n",
       "    <tr>\n",
       "      <th>2</th>\n",
       "      <td>37.6000</td>\n",
       "      <td>-1.3167</td>\n",
       "      <td>IV</td>\n",
       "      <td>Mazarrón.MU</td>\n",
       "    </tr>\n",
       "    <tr>\n",
       "      <th>3</th>\n",
       "      <td>35.7000</td>\n",
       "      <td>-0.6000</td>\n",
       "      <td>VI</td>\n",
       "      <td>ORAN.ARG</td>\n",
       "    </tr>\n",
       "    <tr>\n",
       "      <th>4</th>\n",
       "      <td>42.6000</td>\n",
       "      <td>-5.5667</td>\n",
       "      <td>III</td>\n",
       "      <td>León</td>\n",
       "    </tr>\n",
       "    <tr>\n",
       "      <th>...</th>\n",
       "      <td>...</td>\n",
       "      <td>...</td>\n",
       "      <td>...</td>\n",
       "      <td>...</td>\n",
       "    </tr>\n",
       "    <tr>\n",
       "      <th>187842</th>\n",
       "      <td>38.1579</td>\n",
       "      <td>-1.4956</td>\n",
       "      <td>NaN</td>\n",
       "      <td>SW ABARÁN.MU</td>\n",
       "    </tr>\n",
       "    <tr>\n",
       "      <th>187843</th>\n",
       "      <td>42.8588</td>\n",
       "      <td>-7.3230</td>\n",
       "      <td>NaN</td>\n",
       "      <td>SW BARALLA.LU</td>\n",
       "    </tr>\n",
       "    <tr>\n",
       "      <th>187844</th>\n",
       "      <td>38.2793</td>\n",
       "      <td>0.6721</td>\n",
       "      <td>NaN</td>\n",
       "      <td>MEDITERRÁNEO-CABO DE PALOS</td>\n",
       "    </tr>\n",
       "    <tr>\n",
       "      <th>187845</th>\n",
       "      <td>34.7910</td>\n",
       "      <td>-4.3519</td>\n",
       "      <td>NaN</td>\n",
       "      <td>SE ZERKAT.MAC</td>\n",
       "    </tr>\n",
       "    <tr>\n",
       "      <th>187846</th>\n",
       "      <td>42.3364</td>\n",
       "      <td>-6.8284</td>\n",
       "      <td>NaN</td>\n",
       "      <td>SE CARBALLEDA DE VALDEORRAS.OU</td>\n",
       "    </tr>\n",
       "  </tbody>\n",
       "</table>\n",
       "<p>187847 rows × 4 columns</p>\n",
       "</div>"
      ],
      "text/plain": [
       "        Latitud  Longitud Inten.                    Localización\n",
       "0       43.0000    0.1500    III         Bagneres-de-Bigorre.FRA\n",
       "1       40.0000    3.8333     IV                   Ciutadella.IB\n",
       "2       37.6000   -1.3167     IV                     Mazarrón.MU\n",
       "3       35.7000   -0.6000     VI                        ORAN.ARG\n",
       "4       42.6000   -5.5667    III                            León\n",
       "...         ...       ...    ...                             ...\n",
       "187842  38.1579   -1.4956    NaN                    SW ABARÁN.MU\n",
       "187843  42.8588   -7.3230    NaN                   SW BARALLA.LU\n",
       "187844  38.2793    0.6721    NaN      MEDITERRÁNEO-CABO DE PALOS\n",
       "187845  34.7910   -4.3519    NaN                   SE ZERKAT.MAC\n",
       "187846  42.3364   -6.8284    NaN  SE CARBALLEDA DE VALDEORRAS.OU\n",
       "\n",
       "[187847 rows x 4 columns]"
      ]
     },
     "execution_count": 25,
     "metadata": {},
     "output_type": "execute_result"
    }
   ],
   "source": [
    "data_df"
   ]
  },
  {
   "cell_type": "code",
   "execution_count": null,
   "metadata": {},
   "outputs": [],
   "source": []
  }
 ],
 "metadata": {
  "kernelspec": {
   "display_name": "base",
   "language": "python",
   "name": "python3"
  },
  "language_info": {
   "codemirror_mode": {
    "name": "ipython",
    "version": 3
   },
   "file_extension": ".py",
   "mimetype": "text/x-python",
   "name": "python",
   "nbconvert_exporter": "python",
   "pygments_lexer": "ipython3",
   "version": "3.11.7"
  }
 },
 "nbformat": 4,
 "nbformat_minor": 2
}
